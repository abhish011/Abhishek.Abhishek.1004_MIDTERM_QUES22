{
 "cells": [
  {
   "cell_type": "code",
   "execution_count": 1,
   "id": "8b407740-8e5a-49c2-9dca-7b5028baf746",
   "metadata": {},
   "outputs": [
    {
     "name": "stdout",
     "output_type": "stream",
     "text": [
      "   id\n",
      "1   2\n",
      "3   4\n",
      "[2, 4]\n"
     ]
    }
   ],
   "source": [
    "# Python solution\n",
    "import pandas as pd\n",
    "\n",
    "# Create the Weather table\n",
    "weather_data = {'id': [1, 2, 3, 4], \n",
    "               'recordDate': ['2015-01-01', '2015-01-02', '2015-01-03', '2015-01-04'], \n",
    "               'temperature': [10, 25, 20, 30]}\n",
    "weather_df = pd.DataFrame(weather_data)\n",
    "\n",
    "# Sort the dataframe by recordDate\n",
    "weather_df = weather_df.sort_values('recordDate')\n",
    "\n",
    "# Create a new column to store the previous day's temperature\n",
    "weather_df['prev_temp'] = weather_df['temperature'].shift(1)\n",
    "\n",
    "# Find the IDs with higher temperatures compared to the previous day\n",
    "result_df = weather_df[weather_df['temperature'] > weather_df['prev_temp']][['id']]\n",
    "\n",
    "print(result_df)\n",
    "\n",
    "# SQL solution\n",
    "import sqlite3\n",
    "\n",
    "# Create a SQLite database and table\n",
    "conn = sqlite3.connect('weather.db')\n",
    "cursor = conn.cursor()\n",
    "cursor.execute('''\n",
    "    CREATE TABLE Weather (\n",
    "        id INTEGER,\n",
    "        recordDate DATE,\n",
    "        temperature INTEGER\n",
    "    )\n",
    "''')\n",
    "\n",
    "# Insert the data into the table\n",
    "weather_data = [(1, '2015-01-01', 10), (2, '2015-01-02', 25), (3, '2015-01-03', 20), (4, '2015-01-04', 30)]\n",
    "cursor.executemany('INSERT INTO Weather VALUES (?, ?, ?)', weather_data)\n",
    "conn.commit()\n",
    "\n",
    "# Execute the SQL query\n",
    "cursor.execute('''\n",
    "    SELECT w1.id\n",
    "    FROM Weather w1\n",
    "    WHERE w1.temperature > (\n",
    "        SELECT w2.temperature\n",
    "        FROM Weather w2\n",
    "        WHERE w2.recordDate = (SELECT MAX(w3.recordDate) FROM Weather w3 WHERE w3.recordDate < w1.recordDate)\n",
    "    )\n",
    "''')\n",
    "\n",
    "result = cursor.fetchall()\n",
    "print([row[0] for row in result])\n",
    "\n",
    "# Close the database connection\n",
    "conn.close()"
   ]
  },
  {
   "cell_type": "code",
   "execution_count": null,
   "id": "05f215de-cbff-4afd-8c43-647f9a671651",
   "metadata": {},
   "outputs": [],
   "source": []
  }
 ],
 "metadata": {
  "kernelspec": {
   "display_name": "Python 3 (ipykernel)",
   "language": "python",
   "name": "python3"
  },
  "language_info": {
   "codemirror_mode": {
    "name": "ipython",
    "version": 3
   },
   "file_extension": ".py",
   "mimetype": "text/x-python",
   "name": "python",
   "nbconvert_exporter": "python",
   "pygments_lexer": "ipython3",
   "version": "3.11.7"
  }
 },
 "nbformat": 4,
 "nbformat_minor": 5
}
